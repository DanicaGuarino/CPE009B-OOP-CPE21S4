{
  "nbformat": 4,
  "nbformat_minor": 0,
  "metadata": {
    "colab": {
      "provenance": [],
      "authorship_tag": "ABX9TyOyB3ki7DRL0djmVNhK1jDy",
      "include_colab_link": true
    },
    "kernelspec": {
      "name": "python3",
      "display_name": "Python 3"
    },
    "language_info": {
      "name": "python"
    }
  },
  "cells": [
    {
      "cell_type": "markdown",
      "metadata": {
        "id": "view-in-github",
        "colab_type": "text"
      },
      "source": [
        "<a href=\"https://colab.research.google.com/github/DanicaGuarino/CPE009B-OOP-CPE21S4/blob/main/Exercise_1.ipynb\" target=\"_parent\"><img src=\"https://colab.research.google.com/assets/colab-badge.svg\" alt=\"Open In Colab\"/></a>"
      ]
    },
    {
      "cell_type": "code",
      "execution_count": 18,
      "metadata": {
        "colab": {
          "base_uri": "https://localhost:8080/"
        },
        "id": "SbRjYxokFb5M",
        "outputId": "68ae55d6-42bb-42f0-d9e4-6f1d118b7d72"
      },
      "outputs": [
        {
          "output_type": "stream",
          "name": "stdout",
          "text": [
            "My name is: Ana and with an age of 19 and birthdate of January 3, 2005\n",
            "My name is: Mark and with an age of 20 and birthdate of April 7, 2004\n",
            "My name is: Rose and with an age of 45 and birthdate of December 2, 1979\n"
          ]
        }
      ],
      "source": [
        "#super class/parent class constructor\n",
        "\n",
        "class Person:\n",
        "  def __init__(self,name,age,birthdate):\n",
        "    self.name=name\n",
        "    self.age=age\n",
        "    self.birthdate=birthdate  #defining attributes and identity\n",
        "\n",
        "\n",
        "  def person_attribute(self):  #method constructor\n",
        "    return f\"My name is: {self.name} and with an age of {self.age} and birthdate of {self.birthdate}\"\n",
        "class Teacher(Person): #subclass constructor\n",
        "  pass\n",
        "class Student(Person):\n",
        "  pass   #subclass constructor\n",
        "\n",
        "#object instantiation\n",
        "person = Person (\"Ana\", 19, \"January 3, 2005\")  #behavior/instance of a class\n",
        "print(person.person_attribute())\n",
        "student = Student(\"Mark\", 20, \"April 7, 2004\")\n",
        "print(student.person_attribute())\n",
        "teacher = Teacher (\"Rose\", 45, \"December 2, 1979\")  #behavior/instance of a class\n",
        "print(teacher.person_attribute())\n",
        "\n"
      ]
    },
    {
      "cell_type": "markdown",
      "source": [
        "#**Challenging Python Problem:**"
      ],
      "metadata": {
        "id": "oAHRIemsT5P3"
      }
    },
    {
      "cell_type": "markdown",
      "source": [
        "Create a python program that has the following:\n",
        "\n",
        "1. Super class names as shapes\n",
        "2. Subclass : Rectangle Square\n",
        "3. Methods : Perimeter(), Area()\n",
        "4. Object name: rectangle, square\n",
        "5. Inherits the attributes of super class Shapes self.side"
      ],
      "metadata": {
        "id": "znMAoqzhUgHA"
      }
    },
    {
      "cell_type": "code",
      "source": [
        "class Shapes:\n",
        "  def __init__(self, length, width, side):\n",
        "    self.length = length\n",
        "    self.width = width\n",
        "    self.side = side\n",
        "\n",
        "  def Shape_attribute(self):\n",
        "    return f\"The length is: {self.length} with a width of {self.width} and a side of {self.side}\"\n",
        "\n",
        "class Rectangle(Shapes):\n",
        "  def perimeter_rectangle(self):\n",
        "    return 2 * (self.length + self.width)\n",
        "\n",
        "  def area_rectangle(self):\n",
        "    return self.length * self.width\n",
        "\n",
        "class Square(Shapes):\n",
        "  def perimeter_square(self):\n",
        "    return 4 * self.side\n",
        "\n",
        "  def area_square(self):\n",
        "    return self.side ** 2\n",
        "\n",
        "rectangle = Rectangle(length = 5, width = 4, side = 5)\n",
        "square = Square(length = 5, width = 5, side = 5)\n",
        "print(\"The perimeter of Rectangle is: \", (rectangle.perimeter_rectangle()))\n",
        "print(\"The area of the Rectrangle is: \", (rectangle.area_rectangle()))\n",
        "print(\"The perimeter of Square is: \", (square.perimeter_square()))\n",
        "print(\"The area of the Square is: \", (square.area_square()))\n"
      ],
      "metadata": {
        "colab": {
          "base_uri": "https://localhost:8080/"
        },
        "id": "IakE6131VCY_",
        "outputId": "b4dfb47a-4242-410f-f11c-7e8a5349f36d"
      },
      "execution_count": 22,
      "outputs": [
        {
          "output_type": "stream",
          "name": "stdout",
          "text": [
            "The perimeter of Rectangle is:  18\n",
            "The area of the Rectrangle is:  20\n",
            "The perimeter of Square is:  20\n",
            "The area of the Square is:  25\n"
          ]
        }
      ]
    }
  ]
}