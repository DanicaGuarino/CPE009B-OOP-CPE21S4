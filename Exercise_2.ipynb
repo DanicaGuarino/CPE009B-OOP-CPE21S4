{
  "nbformat": 4,
  "nbformat_minor": 0,
  "metadata": {
    "colab": {
      "provenance": [],
      "authorship_tag": "ABX9TyNMwTDdmzALlZYzE999Ttuv",
      "include_colab_link": true
    },
    "kernelspec": {
      "name": "python3",
      "display_name": "Python 3"
    },
    "language_info": {
      "name": "python"
    }
  },
  "cells": [
    {
      "cell_type": "markdown",
      "metadata": {
        "id": "view-in-github",
        "colab_type": "text"
      },
      "source": [
        "<a href=\"https://colab.research.google.com/github/DanicaGuarino/CPE009B-OOP-CPE21S4/blob/main/Exercise_2.ipynb\" target=\"_parent\"><img src=\"https://colab.research.google.com/assets/colab-badge.svg\" alt=\"Open In Colab\"/></a>"
      ]
    },
    {
      "cell_type": "markdown",
      "source": [
        "**Example 1**"
      ],
      "metadata": {
        "id": "zrFyyNNqbRfx"
      }
    },
    {
      "cell_type": "code",
      "execution_count": 4,
      "metadata": {
        "id": "q_PZm_8HWa27",
        "colab": {
          "base_uri": "https://localhost:8080/"
        },
        "outputId": "0a8627ca-43e8-4977-f6da-94fe28b699f6"
      },
      "outputs": [
        {
          "output_type": "stream",
          "name": "stdout",
          "text": [
            "The value of a is 4\n",
            "3\n",
            "7\n"
          ]
        }
      ],
      "source": [
        "class foo:\n",
        "  def __init__(self,a,b):\n",
        "    self.a = a\n",
        "    self.b = b\n",
        "  def add(self):\n",
        "    return self.a + self.b\n",
        "foo_object = foo(4,3)\n",
        "print (\"The value of a is\", foo_object.a)\n",
        "print (foo_object.b)\n",
        "print (foo_object.add())\n"
      ]
    },
    {
      "cell_type": "markdown",
      "source": [
        "**Example 2**"
      ],
      "metadata": {
        "id": "gXbdSDjDbWdl"
      }
    },
    {
      "cell_type": "markdown",
      "source": [
        "- Complete the program by adding object name and\n",
        "print output variable that display the instance/behavior of every function\n",
        "\n",
        "\n",
        "- Apply encapsulation by typing _ single underscore for private variable\n",
        "\n"
      ],
      "metadata": {
        "id": "AIarboy8b4iZ"
      }
    },
    {
      "cell_type": "code",
      "source": [
        "class Counter:\n",
        "  def __init__(self):\n",
        "    self.__current = 0\n",
        "\n",
        "  def increment(self):\n",
        "    self.current += 1\n",
        "    return self.__current\n",
        "\n",
        "  def value(self):\n",
        "    return self.__current\n",
        "\n",
        "  def reset(self):\n",
        "    self.__current = 0\n",
        "\n",
        "  count = Counter()\n",
        "  print(count.__current)\n",
        "  print (count.increment())\n",
        "  print (count.value())\n",
        "  print (count.value())"
      ],
      "metadata": {
        "colab": {
          "base_uri": "https://localhost:8080/"
        },
        "id": "rzKC30YDbZsa",
        "outputId": "28265c6c-061e-4335-d0eb-4777deedad1b"
      },
      "execution_count": 11,
      "outputs": [
        {
          "output_type": "stream",
          "name": "stdout",
          "text": [
            "0\n",
            "1\n",
            "1\n",
            "1\n"
          ]
        }
      ]
    }
  ]
}