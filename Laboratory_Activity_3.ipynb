{
  "nbformat": 4,
  "nbformat_minor": 0,
  "metadata": {
    "colab": {
      "provenance": [],
      "authorship_tag": "ABX9TyPXLNuVpg/QR+Qfc5FzuAUy",
      "include_colab_link": true
    },
    "kernelspec": {
      "name": "python3",
      "display_name": "Python 3"
    },
    "language_info": {
      "name": "python"
    }
  },
  "cells": [
    {
      "cell_type": "markdown",
      "metadata": {
        "id": "view-in-github",
        "colab_type": "text"
      },
      "source": [
        "<a href=\"https://colab.research.google.com/github/DanicaGuarino/CPE009B-OOP-CPE21S4/blob/main/Laboratory_Activity_3.ipynb\" target=\"_parent\"><img src=\"https://colab.research.google.com/assets/colab-badge.svg\" alt=\"Open In Colab\"/></a>"
      ]
    },
    {
      "cell_type": "markdown",
      "source": [
        "**Laboratory Activity 3: Inheritance, Encapsulation, and Abstraction**"
      ],
      "metadata": {
        "id": "x-W9db4Fsn_K"
      }
    },
    {
      "cell_type": "code",
      "execution_count": 9,
      "metadata": {
        "colab": {
          "base_uri": "https://localhost:8080/"
        },
        "id": "rZ2bkYfMihwV",
        "outputId": "21d40a2b-3a19-4c9a-dd46-95788eed0c7d"
      },
      "outputs": [
        {
          "output_type": "stream",
          "name": "stdout",
          "text": [
            "{'ID': 1, 'Name': 'Maryelle Joelaine', 'Address': '143 Main St'}\n",
            "{'ID': 2, 'Name': 'Sim Jaeyun', 'Address': '115 Elm St'}\n",
            "{'Salary ID': 1, 'Salary': 2500, 'Cut-off Date': '2024-09-30', 'Days of Work': 20}\n"
          ]
        }
      ],
      "source": [
        "\n",
        "class Employee(ABC):\n",
        "    def __init__(self, emp_id, emp_name, emp_address):\n",
        "        self.__emp_id = emp_id\n",
        "        self.__emp_name = emp_name\n",
        "        self.__emp_address = emp_address\n",
        "\n",
        "\n",
        "    def calculate_salary(self):\n",
        "        pass\n",
        "\n",
        "    def get_emp_details(self):\n",
        "        return {\n",
        "            'ID': self.__emp_id,\n",
        "            'Name': self.__emp_name,\n",
        "            'Address': self.__emp_address\n",
        "        }\n",
        "\n",
        "class FullTime(Employee):\n",
        "    def __init__(self, emp_id, emp_name, emp_address, allowance, rate):\n",
        "        super().__init__(emp_id, emp_name, emp_address)\n",
        "        self.__allowance = allowance\n",
        "        self.__rate = rate\n",
        "\n",
        "    def calculate_salary(self, days_of_work):\n",
        "        return (self.__rate * days_of_work) + self.__allowance\n",
        "\n",
        "class PartTime(Employee):\n",
        "    def __init__(self, emp_id, emp_name, emp_address, rate):\n",
        "        super().__init__(emp_id, emp_name, emp_address)\n",
        "        self.__rate = rate\n",
        "\n",
        "    def calculate_salary(self, hours_of_work):\n",
        "        return self.__rate * hours_of_work\n",
        "\n",
        "class Salary:\n",
        "    def __init__(self, salary_id, salary, cut_off_date, days_of_work):\n",
        "        self.__salary_id = salary_id\n",
        "        self.__salary = salary\n",
        "        self.__cut_off_date = cut_off_date\n",
        "        self.__days_of_work = days_of_work\n",
        "\n",
        "    def get_salary_details(self):\n",
        "        return {\n",
        "            'Salary ID': self.__salary_id,\n",
        "            'Salary': self.__salary,\n",
        "            'Cut-off Date': self.__cut_off_date,\n",
        "            'Days of Work': self.__days_of_work\n",
        "        }\n",
        "\n",
        "\n",
        "# Example\n",
        "fulltime_emp = FullTime(1, 'Maryelle Joelaine', '143 Main St', 500, 100)\n",
        "parttime_emp = PartTime(2, 'Sim Jaeyun', '115 Elm St', 20)\n",
        "\n",
        "fulltime_salary = fulltime_emp.calculate_salary(20)\n",
        "parttime_salary = parttime_emp.calculate_salary(80)\n",
        "\n",
        "salary_record = Salary(1, fulltime_salary, '2024-09-30', 20)\n",
        "\n",
        "print(fulltime_emp.get_emp_details())\n",
        "print(parttime_emp.get_emp_details())\n",
        "print(salary_record.get_salary_details())\n",
        "\n"
      ]
    }
  ]
}